{
 "cells": [
  {
   "cell_type": "code",
   "execution_count": 53,
   "metadata": {},
   "outputs": [],
   "source": [
    "import pandas as pd\n",
    "import numpy as np\n",
    "import nltk\n",
    "from nltk.corpus import stopwords\n",
    "import string\n",
    "from sklearn.feature_extraction.text import TfidfVectorizer\n",
    "from sklearn.model_selection import train_test_split\n",
    "from sklearn.ensemble import RandomForestClassifier\n",
    "from sklearn.metrics import accuracy_score"
   ]
  },
  {
   "cell_type": "code",
   "execution_count": 2,
   "metadata": {},
   "outputs": [],
   "source": [
    "def read_data(filename):\n",
    "    return pd.read_csv(filename)"
   ]
  },
  {
   "cell_type": "code",
   "execution_count": 3,
   "metadata": {},
   "outputs": [],
   "source": [
    "def split_data(df, x, y):\n",
    "    X = df[x]\n",
    "    y = df[y]\n",
    "    return X, y"
   ]
  },
  {
   "cell_type": "code",
   "execution_count": 4,
   "metadata": {},
   "outputs": [],
   "source": [
    "def remove_stop_words_and_lower(x):\n",
    "    list_stopwords = stopwords.words('english')\n",
    "    \n",
    "    temp_x = x.copy()\n",
    "    new_x = []\n",
    "    \n",
    "    for i in temp_x:\n",
    "        words = i.split()\n",
    "        sentence = []\n",
    "        for j in words:\n",
    "            if j not in list_stopwords:\n",
    "                sentence.append(j.lower())\n",
    "        new_x.append(' '.join(sentence))\n",
    "        \n",
    "    return new_x"
   ]
  },
  {
   "cell_type": "code",
   "execution_count": 5,
   "metadata": {},
   "outputs": [],
   "source": [
    "def remove_punctuation(x):\n",
    "    temp_x = x.copy()\n",
    "    new_x = []\n",
    "    \n",
    "    for i in temp_x:\n",
    "        for j in string.punctuation:\n",
    "            i = i.replace(j, '')\n",
    "        new_x.append(i)\n",
    "        \n",
    "    return new_x"
   ]
  },
  {
   "cell_type": "code",
   "execution_count": 29,
   "metadata": {},
   "outputs": [],
   "source": [
    "class Token_Data:\n",
    "    def __init__(self):\n",
    "        self.tokenizer = TfidfVectorizer(max_df=0.9, min_df=5)\n",
    "    def fit(self, data, y=None):\n",
    "        self.tokenizer.fit(data)\n",
    "    def transform(self, data, y=None):\n",
    "        return self.tokenizer.transform(data)\n",
    "    def fit_transform(self, data, y=None):\n",
    "        self.fit(data)\n",
    "        return self.transform(data)"
   ]
  },
  {
   "cell_type": "code",
   "execution_count": 30,
   "metadata": {},
   "outputs": [],
   "source": [
    "# READ CSV DATA\n",
    "df = read_data('train.csv')"
   ]
  },
  {
   "cell_type": "code",
   "execution_count": 31,
   "metadata": {},
   "outputs": [],
   "source": [
    "# SPLIT X AND Y\n",
    "X, y = split_data(df, 'text', 'target')\n",
    "\n",
    "X = X.to_list()\n",
    "y = y.to_list()"
   ]
  },
  {
   "cell_type": "code",
   "execution_count": 39,
   "metadata": {},
   "outputs": [],
   "source": [
    "# TRAIN TEST SPLIT\n",
    "X_train, X_test, y_train, y_test = train_test_split(X, y, test_size=0.2, shuffle=True)"
   ]
  },
  {
   "cell_type": "code",
   "execution_count": 48,
   "metadata": {},
   "outputs": [],
   "source": [
    "# CLEAN DATA FOR X_TRAIN\n",
    "x = remove_stop_words_and_lower(X_train)\n",
    "x = remove_punctuation(x)\n",
    "tokenizer = Token_Data()\n",
    "x = tokenizer.fit_transform(x)"
   ]
  },
  {
   "cell_type": "code",
   "execution_count": 51,
   "metadata": {},
   "outputs": [
    {
     "data": {
      "text/plain": [
       "RandomForestClassifier()"
      ]
     },
     "execution_count": 51,
     "metadata": {},
     "output_type": "execute_result"
    }
   ],
   "source": [
    "# CREATE CLASSIFIER\n",
    "random_forest = RandomForestClassifier()\n",
    "random_forest.fit(x, y_train)"
   ]
  },
  {
   "cell_type": "code",
   "execution_count": 52,
   "metadata": {},
   "outputs": [],
   "source": [
    "# CLEAN DATA FOR X_TEST\n",
    "x = remove_stop_words_and_lower(X_test)\n",
    "x = remove_punctuation(x)\n",
    "x = tokenizer.transform(x)"
   ]
  },
  {
   "cell_type": "code",
   "execution_count": 54,
   "metadata": {},
   "outputs": [
    {
     "data": {
      "text/plain": [
       "0.7715036112934996"
      ]
     },
     "execution_count": 54,
     "metadata": {},
     "output_type": "execute_result"
    }
   ],
   "source": [
    "# TEST PREDICTION\n",
    "y_pred = random_forest.predict(x)\n",
    "accuracy_score(y_test, y_pred)"
   ]
  },
  {
   "cell_type": "code",
   "execution_count": 59,
   "metadata": {},
   "outputs": [],
   "source": [
    "# READ CSV DATA\n",
    "df1 = read_data('test.csv')\n",
    "\n",
    "# CLEAN DATA FOR SUBMISSION\n",
    "submission = df1['text']\n",
    "x = remove_stop_words_and_lower(submission)\n",
    "x = remove_punctuation(x)\n",
    "x = tokenizer.transform(x)"
   ]
  },
  {
   "cell_type": "code",
   "execution_count": 61,
   "metadata": {},
   "outputs": [],
   "source": [
    "# FINAL PREDICTION\n",
    "y_pred = random_forest.predict(x)"
   ]
  },
  {
   "cell_type": "code",
   "execution_count": 69,
   "metadata": {},
   "outputs": [],
   "source": [
    "# CREATE SUBMISSION FILE\n",
    "id = df1['id'].to_list()\n",
    "target = y_pred.tolist()\n",
    "\n",
    "# CREATE DICTIONARY FOR DATAFRAME\n",
    "dataframe_dictionary = {\n",
    "    'id': id,\n",
    "    'target': target\n",
    "}\n",
    "\n",
    "# CREATE DATAFRAME\n",
    "submission_df = pd.DataFrame(dataframe_dictionary, index=None)\n",
    "submission_df.to_csv('submission.csv',)"
   ]
  },
  {
   "cell_type": "code",
   "execution_count": null,
   "metadata": {},
   "outputs": [],
   "source": []
  }
 ],
 "metadata": {
  "kernelspec": {
   "display_name": "Python 3",
   "language": "python",
   "name": "python3"
  },
  "language_info": {
   "codemirror_mode": {
    "name": "ipython",
    "version": 3
   },
   "file_extension": ".py",
   "mimetype": "text/x-python",
   "name": "python",
   "nbconvert_exporter": "python",
   "pygments_lexer": "ipython3",
   "version": "3.8.5"
  }
 },
 "nbformat": 4,
 "nbformat_minor": 4
}
