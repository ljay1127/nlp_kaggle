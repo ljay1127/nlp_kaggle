{
 "cells": [
  {
   "cell_type": "code",
   "execution_count": 40,
   "metadata": {},
   "outputs": [],
   "source": [
    "import pandas as pd\n",
    "import numpy as np\n",
    "import nltk\n",
    "from nltk.corpus import stopwords\n",
    "import string"
   ]
  },
  {
   "cell_type": "code",
   "execution_count": 2,
   "metadata": {},
   "outputs": [],
   "source": [
    "def read_data(filename):\n",
    "    return pd.read_csv(filename)"
   ]
  },
  {
   "cell_type": "code",
   "execution_count": 12,
   "metadata": {},
   "outputs": [],
   "source": [
    "def split_data(df, x, y):\n",
    "    X = df[x]\n",
    "    y = df[y]\n",
    "    return X, y"
   ]
  },
  {
   "cell_type": "code",
   "execution_count": 32,
   "metadata": {},
   "outputs": [],
   "source": [
    "def remove_stop_words(x):\n",
    "    list_stopwords = stopwords.words('english')\n",
    "    \n",
    "    temp_x = x.copy()\n",
    "    new_x = []\n",
    "    \n",
    "    for i in temp_x:\n",
    "        words = i.split()\n",
    "        sentence = []\n",
    "        for j in words:\n",
    "            if j not in list_stopwords:\n",
    "                sentence.append(j)\n",
    "        new_x.append(' '.join(sentence))\n",
    "        \n",
    "    return new_x"
   ]
  },
  {
   "cell_type": "code",
   "execution_count": 50,
   "metadata": {},
   "outputs": [],
   "source": [
    "def remove_punctuation(x):\n",
    "    temp_x = x.copy()\n",
    "    new_x = []\n",
    "    \n",
    "    for i in temp_x:\n",
    "        for j in string.punctuation:\n",
    "            i = i.replace(j, '')\n",
    "        new_x.append(i)\n",
    "        \n",
    "    return new_x"
   ]
  },
  {
   "cell_type": "code",
   "execution_count": 36,
   "metadata": {},
   "outputs": [],
   "source": [
    "# READ CSV DATA\n",
    "df = read_data('train.csv')"
   ]
  },
  {
   "cell_type": "code",
   "execution_count": 37,
   "metadata": {},
   "outputs": [],
   "source": [
    "# SPLIT X AND Y\n",
    "X, y = split_data(df, 'text', 'target')\n",
    "\n",
    "X = X.to_list()\n",
    "y = y.to_list()"
   ]
  },
  {
   "cell_type": "code",
   "execution_count": 51,
   "metadata": {},
   "outputs": [],
   "source": [
    "x = remove_stop_words(X)\n",
    "x = remove_punctuation(x)"
   ]
  },
  {
   "cell_type": "code",
   "execution_count": 52,
   "metadata": {},
   "outputs": [
    {
     "data": {
      "text/plain": [
       "['Our Deeds Reason earthquake May ALLAH Forgive us',\n",
       " 'Forest fire near La Ronge Sask Canada',\n",
       " 'All residents asked shelter place notified officers No evacuation shelter place orders expected',\n",
       " '13000 people receive wildfires evacuation orders California',\n",
       " 'Just got sent photo Ruby Alaska smoke wildfires pours school',\n",
       " 'RockyFire Update  California Hwy 20 closed directions due Lake County fire  CAfire wildfires',\n",
       " 'flood disaster Heavy rain causes flash flooding streets Manitou Colorado Springs areas',\n",
       " 'Im top hill I see fire woods',\n",
       " 'Theres emergency evacuation happening building across street',\n",
       " 'Im afraid tornado coming area']"
      ]
     },
     "execution_count": 52,
     "metadata": {},
     "output_type": "execute_result"
    }
   ],
   "source": [
    "x[0:10]"
   ]
  },
  {
   "cell_type": "code",
   "execution_count": null,
   "metadata": {},
   "outputs": [],
   "source": []
  }
 ],
 "metadata": {
  "kernelspec": {
   "display_name": "Python 3",
   "language": "python",
   "name": "python3"
  },
  "language_info": {
   "codemirror_mode": {
    "name": "ipython",
    "version": 3
   },
   "file_extension": ".py",
   "mimetype": "text/x-python",
   "name": "python",
   "nbconvert_exporter": "python",
   "pygments_lexer": "ipython3",
   "version": "3.8.5"
  }
 },
 "nbformat": 4,
 "nbformat_minor": 4
}
